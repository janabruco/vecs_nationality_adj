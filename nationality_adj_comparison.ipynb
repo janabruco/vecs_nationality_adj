{
 "cells": [
  {
   "cell_type": "markdown",
   "id": "ac98cdf6-3135-48d5-83f9-a03dce6b450c",
   "metadata": {},
   "source": [
    "Dec 7, 2024. janabruses@pitt.edu, Jana Bruses"
   ]
  },
  {
   "cell_type": "code",
   "execution_count": 53,
   "id": "96b0bfd1-522d-4b37-811b-4fa3d7e3c11f",
   "metadata": {},
   "outputs": [],
   "source": [
    "#importing glove_vecs\n",
    "from gensim.models import KeyedVectors\n",
    "filename = '/Users/janabruses/Documents/ling1330/glove/glove.6B.100d.txt'\n",
    "glove_vecs = KeyedVectors.load_word2vec_format(filename, binary=False,\n",
    "no_header=True)"
   ]
  },
  {
   "cell_type": "code",
   "execution_count": 54,
   "id": "530b0f2a-7a11-462b-9d05-27f4f659be5f",
   "metadata": {},
   "outputs": [],
   "source": [
    "#importing \n",
    "import re\n",
    "languages = []\n",
    "with open('/Users/janabruses/Documents/ling1330/languages-list-EN.txt', 'r') as file:\n",
    "    for line in file:\n",
    "        languages.append((re.sub(r\"[^A-Za-z ]\", \"\", line)).lower())"
   ]
  },
  {
   "cell_type": "code",
   "execution_count": 55,
   "id": "6a5df2c9-db80-4688-b668-c522fd1cbda9",
   "metadata": {},
   "outputs": [],
   "source": [
    "missing_lang = []\n",
    "valid_lang = []\n",
    "for lang in languages:\n",
    "    if lang in glove_vecs:\n",
    "        valid_lang.append(lang)\n",
    "    else:\n",
    "        missing_lang.append(lang)"
   ]
  },
  {
   "cell_type": "code",
   "execution_count": 56,
   "id": "652c9fc8-b274-46ab-93c8-0362d36a1f78",
   "metadata": {},
   "outputs": [
    {
     "data": {
      "text/plain": [
       "['sign language']"
      ]
     },
     "execution_count": 56,
     "metadata": {},
     "output_type": "execute_result"
    }
   ],
   "source": [
    "missing_lang"
   ]
  },
  {
   "cell_type": "markdown",
   "id": "6f7a91a3-bc2f-48db-9807-ff80a0b2b359",
   "metadata": {},
   "source": [
    "I looked for a txt listing languages, loaded it and separated it into languages included and not included in glove_vecs to avoid any key errors.\\\n",
    "\\\n",
    "Then I created a dictionary where:\n",
    "the key is the first language of the pair of the two languages we are comparing (lang1,) and it maps to a tuple of the second language, the one the 1st is being compared to (lang2,) and the similarity given to the pair by glove_vecs"
   ]
  },
  {
   "cell_type": "code",
   "execution_count": 57,
   "id": "6dc16e82-b39b-4abd-ad65-a79108f3a9ec",
   "metadata": {},
   "outputs": [],
   "source": [
    "lang_similarity = {}\n",
    "for lang1 in valid_lang:\n",
    "    if lang1 not in lang_similarity:\n",
    "        lang_similarity[lang1] = []\n",
    "    for lang2 in valid_lang:\n",
    "        if lang1 != lang2:\n",
    "            similarity_score = glove_vecs.similarity(lang1, lang2)\n",
    "            lang_similarity[lang1].append((lang2, similarity_score))\n",
    "\n",
    "def get_similarity(tpl):\n",
    "    return tpl[1]"
   ]
  },
  {
   "cell_type": "markdown",
   "id": "382e02dd-0060-404c-8d92-48beff0af003",
   "metadata": {},
   "source": [
    "I sorted the similarities so that all of languages most similar languages would be ordered to rank them"
   ]
  },
  {
   "cell_type": "code",
   "execution_count": 58,
   "id": "7d26e60c-4ba6-4f4e-9900-e97717d5edf8",
   "metadata": {},
   "outputs": [],
   "source": [
    "for key in lang_similarity.keys():\n",
    "    lang_similarity[key].sort(key=get_similarity, reverse=True)"
   ]
  },
  {
   "cell_type": "code",
   "execution_count": 59,
   "id": "b7d43f36-72ba-4aae-8903-d675ea11c462",
   "metadata": {},
   "outputs": [
    {
     "name": "stdout",
     "output_type": "stream",
     "text": [
      "\n",
      "The most similar languages to Spanish according to glove_vecs are:\n",
      "\n",
      "spanish - portuguese: 0.8205267786979675\n",
      "spanish - italian: 0.7928807139396667\n",
      "spanish - french: 0.7582119107246399\n",
      "spanish - brazilian: 0.6808936595916748\n",
      "spanish - dutch: 0.6707138419151306\n",
      "spanish - catalan: 0.652790904045105\n",
      "spanish - english: 0.626021683216095\n",
      "spanish - german: 0.6057244539260864\n",
      "spanish - greek: 0.6016337871551514\n",
      "spanish - latin: 0.5984212756156921\n"
     ]
    }
   ],
   "source": [
    "print()\n",
    "print(\"The most similar languages to Spanish according to glove_vecs are:\")\n",
    "print()\n",
    "for lang, score in lang_similarity['spanish'][:10]:\n",
    "    print(f\"\"\"spanish - {lang}: {score}\"\"\")"
   ]
  },
  {
   "cell_type": "code",
   "execution_count": 60,
   "id": "60399036-d40a-4dbc-a9f0-d081867a6edf",
   "metadata": {},
   "outputs": [
    {
     "name": "stdout",
     "output_type": "stream",
     "text": [
      "\n",
      "The most similar languages to Catalan according to glove_vecs are:\n",
      "\n",
      "catalan - spanish: 0.652790904045105\n",
      "catalan - flemish: 0.639177143573761\n",
      "catalan - portuguese: 0.6062145829200745\n",
      "catalan - italian: 0.581230103969574\n",
      "catalan - slovene: 0.5724879503250122\n",
      "catalan - greek: 0.5056952834129333\n",
      "catalan - french: 0.49839353561401367\n",
      "catalan - dutch: 0.49797070026397705\n",
      "catalan - berber: 0.49046844244003296\n",
      "catalan - hungarian: 0.4877297878265381\n"
     ]
    }
   ],
   "source": [
    "print()\n",
    "print(\"The most similar languages to Catalan according to glove_vecs are:\")\n",
    "print()\n",
    "for lang, score in lang_similarity['catalan'][:10]:\n",
    "    print(f\"\"\"catalan - {lang}: {score}\"\"\")"
   ]
  },
  {
   "cell_type": "code",
   "execution_count": 61,
   "id": "15448d6f-4bb1-4dcd-a46f-9fce1109db49",
   "metadata": {},
   "outputs": [
    {
     "name": "stdout",
     "output_type": "stream",
     "text": [
      "\n",
      "The most similar languages to Mandarin according to glove_vecs are:\n",
      "\n",
      "mandarin - cantonese: 0.8423231840133667\n",
      "mandarin - tagalog: 0.6539232134819031\n",
      "mandarin - creole: 0.5836564898490906\n",
      "mandarin - malay: 0.5460904836654663\n",
      "mandarin - arabic: 0.5254192352294922\n",
      "mandarin - english: 0.514771580696106\n",
      "mandarin - hindi: 0.5106698274612427\n",
      "mandarin - hawaiian: 0.49354326725006104\n",
      "mandarin - javanese: 0.4853445589542389\n",
      "mandarin - afrikaans: 0.472692608833313\n"
     ]
    }
   ],
   "source": [
    "print()\n",
    "print(\"The most similar languages to Mandarin according to glove_vecs are:\")\n",
    "print()\n",
    "for lang, score in lang_similarity['mandarin'][:10]:\n",
    "    print(f\"\"\"mandarin - {lang}: {score}\"\"\")"
   ]
  },
  {
   "cell_type": "code",
   "execution_count": 62,
   "id": "1252eeb2-1ad7-498e-bad3-f46d8a541503",
   "metadata": {},
   "outputs": [
    {
     "name": "stdout",
     "output_type": "stream",
     "text": [
      "\n",
      "The most similar languages to English according to glove_vecs are:\n",
      "\n",
      "english - welsh: 0.7520771026611328\n",
      "english - irish: 0.7088090181350708\n",
      "english - scottish: 0.6993111371994019\n",
      "english - arabic: 0.6370865106582642\n",
      "english - french: 0.6333723664283752\n",
      "english - spanish: 0.626021683216095\n",
      "english - dutch: 0.6117767095565796\n",
      "english - portuguese: 0.5823111534118652\n",
      "english - german: 0.5820319056510925\n",
      "english - greek: 0.5720583200454712\n"
     ]
    }
   ],
   "source": [
    "print()\n",
    "print(\"The most similar languages to English according to glove_vecs are:\")\n",
    "print()\n",
    "for lang, score in lang_similarity['english'][:10]:\n",
    "    print(f\"\"\"english - {lang}: {score}\"\"\")"
   ]
  },
  {
   "cell_type": "markdown",
   "id": "00c3b573-85df-47f0-a751-afa841bebcf1",
   "metadata": {},
   "source": [
    "\\\n",
    "Then I wanted to know what languages were considered the most similar out of all these language pairs.\\\n",
    "\\\n",
    "**Disclaimer:**\\\n",
    "The list of languages wasn't the most complete, languages like\n",
    "\"Basque\" were not included.\n",
    "\n",
    "I created a list containing tuples of the first language and a tuple of the second\n",
    "language and the similarity rating, and then sorted them"
   ]
  },
  {
   "cell_type": "code",
   "execution_count": 63,
   "id": "3f0d9769-9911-453d-a716-b64fcd96650f",
   "metadata": {},
   "outputs": [],
   "source": [
    "all_pairs = []\n",
    "for key in lang_similarity.keys():\n",
    "    for lang, score in lang_similarity[key]:\n",
    "        all_pairs.append((key, (lang, score)))"
   ]
  },
  {
   "cell_type": "code",
   "execution_count": 64,
   "id": "4241dc8a-0edf-49e2-b088-50e6ff6cde7c",
   "metadata": {},
   "outputs": [],
   "source": [
    "def get_score(item):\n",
    "    return item[1][1]"
   ]
  },
  {
   "cell_type": "code",
   "execution_count": 65,
   "id": "00523012-0d2d-47e8-883f-f102675572ba",
   "metadata": {},
   "outputs": [
    {
     "name": "stdout",
     "output_type": "stream",
     "text": [
      "\n",
      "The most similar language according to glove_vecs are:\n",
      "\n",
      "malayalam - telugu: 0.8990049958229065\n",
      "telugu - malayalam: 0.8990049958229065\n",
      "bulgarian - romanian: 0.8581596612930298\n",
      "bulgarian - romanian: 0.8581596612930298\n",
      "romanian - bulgarian: 0.8581596612930298\n",
      "romanian - bulgarian: 0.8581596612930298\n",
      "cantonese - mandarin: 0.8423231840133667\n",
      "mandarin - cantonese: 0.8423231840133667\n",
      "hungarian - romanian: 0.8410434126853943\n",
      "romanian - hungarian: 0.8410434126853943\n"
     ]
    }
   ],
   "source": [
    "print()\n",
    "print(\"The most similar language according to glove_vecs are:\")\n",
    "print()\n",
    "all_pairs.sort(key = get_score, reverse = True)\n",
    "for lang1, (lang2, score) in all_pairs[:10]:\n",
    "    print(f\"{lang1} - {lang2}: {score}\")"
   ]
  },
  {
   "cell_type": "code",
   "execution_count": 66,
   "id": "b9eaa513-0658-498a-b5ec-5df7e39a1232",
   "metadata": {},
   "outputs": [
    {
     "name": "stdout",
     "output_type": "stream",
     "text": [
      "\n",
      "The least similar language according to glove_vecs are:\n",
      "\n",
      "panjabi - egyptian: -0.15936380624771118\n",
      "egyptian - panjabi: -0.15936380624771118\n",
      "panjabi - korean: -0.16060343384742737\n",
      "korean - panjabi: -0.16060343384742737\n",
      "panjabi - spanish: -0.16152037680149078\n",
      "spanish - panjabi: -0.16152037680149078\n",
      "panjabi - brazilian: -0.1739526391029358\n",
      "brazilian - panjabi: -0.1739526391029358\n",
      "bosnian - hawaiian: -0.19012433290481567\n",
      "hawaiian - bosnian: -0.19012433290481567\n"
     ]
    }
   ],
   "source": [
    "print()\n",
    "print(\"The least similar language according to glove_vecs are:\")\n",
    "print()\n",
    "for lang1, (lang2, score) in all_pairs[-10:]:\n",
    "    print(f\"{lang1} - {lang2}: {score}\")"
   ]
  },
  {
   "cell_type": "markdown",
   "id": "c9a4827e-c8a8-4f17-b620-43cbf0b6347e",
   "metadata": {},
   "source": [
    "### Conclusion:\n",
    "Languages with shared linguistic roots such as malayalam - telugu and cantonese - mandarin consistently scored high in\n",
    "similarity. This aligns with my expectations and speaks great of the performance of the model.\\\n",
    "\\\n",
    "Considering this the major determiner of similarity there are also some surprising pairings with high scores.\n",
    "As for example Hungarian and Romanian going both ways. This could be reflecting socio-political interactions or geographical proximity,\n",
    "which also seems like a very reasonable factor when numbering these nationality adjective similarities.\\\n",
    "\\\n",
    "The less similar language scores also reflect the model's ability to capture semantic distinctions.\n",
    "We find hawaiian - bosian at the very bottom, which have no linguistic, cultural or geographical connection. And I would indeed have considered very different myself.\\\n",
    "\\\n",
    "It is very insightful to see regional clusters in these outputs. When looking for the most similar adjectives to Catalan, the cluster Spanish, Portuguese, French and Italian came up (all Romance languages.)\\\n",
    "\\\n",
    "English's most similars are also very intuitive. As we see Welsh, Irish and Scottish at the top in English's most similar list (all\n",
    "from the British Islands.)\\\n",
    "\\\n",
    "A surprising or unexpected result for me was the similarity between Spanish and Catalan being only about 0.65, lower than that of Spanish with other Romance languages. Considering geographic and cultural proximity I had assumed it would be higher.\n"
   ]
  }
 ],
 "metadata": {
  "kernelspec": {
   "display_name": "Python 3 (ipykernel)",
   "language": "python",
   "name": "python3"
  },
  "language_info": {
   "codemirror_mode": {
    "name": "ipython",
    "version": 3
   },
   "file_extension": ".py",
   "mimetype": "text/x-python",
   "name": "python",
   "nbconvert_exporter": "python",
   "pygments_lexer": "ipython3",
   "version": "3.12.5"
  }
 },
 "nbformat": 4,
 "nbformat_minor": 5
}
